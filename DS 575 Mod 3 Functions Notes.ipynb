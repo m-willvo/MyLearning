{
 "cells": [
  {
   "cell_type": "markdown",
   "id": "78731b18",
   "metadata": {},
   "source": [
    "### HOW TO RUN YOUR CODE\n",
    "\n",
    "Programs Options\n",
    "\n",
    "1. Run interepreter. \n",
    "\n",
    "If you define an object, you can then call it and run it in your environment because it is saved in your enviroment. "
   ]
  },
  {
   "cell_type": "code",
   "execution_count": 1,
   "id": "bbbbd5d3",
   "metadata": {},
   "outputs": [
    {
     "name": "stdout",
     "output_type": "stream",
     "text": [
      "Hello!\n"
     ]
    }
   ],
   "source": [
    "def hello():\n",
    "    print('Hello!')\n",
    "\n",
    "hello()"
   ]
  },
  {
   "cell_type": "markdown",
   "id": "4310642d",
   "metadata": {},
   "source": [
    "2. In a text editor and then run the script from the terminal. \n",
    "\n",
    "3. Inside interpreter and then opening and running script. \n",
    "Memorize this:\n",
    "\n",
    "exec(open('script_name.py').read())\n",
    "\n",
    "* I think this allows you to define different functions in different scripts and then connect them in one script or call them as needed.  Like the functions repo for Learnics. \n",
    "\n",
    "4.Copy and paste code into text editor. "
   ]
  },
  {
   "cell_type": "markdown",
   "id": "db1ddb4c",
   "metadata": {},
   "source": [
    "## Functions Review\n",
    "\n",
    "Afunction is a piece of code that takes in input parameters and returns results. \n",
    " \n",
    "### Defining functions"
   ]
  },
  {
   "cell_type": "code",
   "execution_count": null,
   "id": "214736b1",
   "metadata": {},
   "outputs": [],
   "source": [
    "def do_nothing():\n",
    "    pass\n",
    "    \n",
    "do_nothing()"
   ]
  },
  {
   "cell_type": "code",
   "execution_count": 2,
   "id": "71f572fa",
   "metadata": {},
   "outputs": [
    {
     "name": "stdout",
     "output_type": "stream",
     "text": [
      "Hello world\n"
     ]
    }
   ],
   "source": [
    "def hello():\n",
    "    print(\"Hello world\")\n",
    "    \n",
    "hello()"
   ]
  },
  {
   "cell_type": "code",
   "execution_count": null,
   "id": "793f1473",
   "metadata": {},
   "outputs": [],
   "source": [
    "def echo(anything):\n",
    "    return anything + ' ' + anything\n",
    "    \n",
    "echo('hello')  "
   ]
  },
  {
   "cell_type": "markdown",
   "id": "0feee6b9",
   "metadata": {},
   "source": [
    "parameters - in the example above, anything are the parameters. \n",
    "\n",
    "argument = The value passed into the function is called an argument.  Above putting 'hello' into the function is called passing the argument 'hello' into the function."
   ]
  },
  {
   "cell_type": "code",
   "execution_count": 6,
   "id": "f021de5b",
   "metadata": {},
   "outputs": [
    {
     "data": {
      "text/plain": [
       "\"I've never heard of the color blue.\""
      ]
     },
     "execution_count": 6,
     "metadata": {},
     "output_type": "execute_result"
    }
   ],
   "source": [
    "def commentary(color):\n",
    "    if color == 'red':\n",
    "              return \"It's a tomato.\"\n",
    "    elif color == 'green':\n",
    "               return \"It's a green pepper.\"\n",
    "    elif color == 'bee purple':\n",
    "               return \"I don't see it, but bees do.\"\n",
    "    else: \n",
    "               return f\"I've never heard of the color {color}.\"\n",
    "        \n",
    "commentary('blue')"
   ]
  },
  {
   "cell_type": "markdown",
   "id": "6639f9ae",
   "metadata": {},
   "source": [
    "## None v. False\n",
    "\n",
    "This is important for when values are actually missing like NaN in numpy or pandas. \n",
    "None will be helpful to distinguish between missing values and an actual None. \n",
    "\n",
    "None:\n",
    "None is a special value in Python that represents the absence of a value or the lack of a return value from a function.\n",
    "It is often used to indicate that a variable or object has no value or that a function did not return anything meaningful.\n",
    "None is a singleton object in Python, which means there is only one instance of it.\n",
    "\n",
    "False:\n",
    "False is a boolean value in Python, representing the logical value \"false.\"\n",
    "It is used in boolean expressions, conditions, and control flow statements to make decisions based on whether a statement or condition is true or false."
   ]
  },
  {
   "cell_type": "code",
   "execution_count": 11,
   "id": "d41100ff",
   "metadata": {},
   "outputs": [
    {
     "name": "stdout",
     "output_type": "stream",
     "text": [
      "None is None\n",
      "False is False\n",
      "0 is False\n",
      "[] is False\n",
      " is False\n",
      "1 is True\n"
     ]
    },
    {
     "ename": "NameError",
     "evalue": "name 'Whatis' is not defined",
     "output_type": "error",
     "traceback": [
      "\u001b[1;31m---------------------------------------------------------------------------\u001b[0m",
      "\u001b[1;31mNameError\u001b[0m                                 Traceback (most recent call last)",
      "Cell \u001b[1;32mIn[11], line 15\u001b[0m\n\u001b[0;32m     13\u001b[0m whatis(\u001b[38;5;124m'\u001b[39m\u001b[38;5;124m'\u001b[39m)  \u001b[38;5;66;03m# empty string (string with no values)\u001b[39;00m\n\u001b[0;32m     14\u001b[0m whatis(\u001b[38;5;241m1\u001b[39m)\n\u001b[1;32m---> 15\u001b[0m \u001b[43mWhatis\u001b[49m(\u001b[38;5;124m'\u001b[39m\u001b[38;5;124mBob\u001b[39m\u001b[38;5;124m'\u001b[39m)\n",
      "\u001b[1;31mNameError\u001b[0m: name 'Whatis' is not defined"
     ]
    }
   ],
   "source": [
    "def whatis(thing):\n",
    "    if thing is None:\n",
    "        print(thing, 'is None')\n",
    "    elif thing:\n",
    "        print(thing, 'is True') # any string or integer with non-zero value is True\n",
    "    else:\n",
    "        print(thing, 'is False')\n",
    "        \n",
    "whatis(None)\n",
    "whatis(False)\n",
    "whatis(0)\n",
    "whatis([])  # empty list  (list with no values)\n",
    "whatis('')  # empty string (string with no values)\n",
    "whatis(1)\n",
    "Whatis('Bob')"
   ]
  },
  {
   "cell_type": "code",
   "execution_count": null,
   "id": "c2e1b2ea",
   "metadata": {},
   "outputs": [],
   "source": []
  }
 ],
 "metadata": {
  "kernelspec": {
   "display_name": "Python 3 (ipykernel)",
   "language": "python",
   "name": "python3"
  },
  "language_info": {
   "codemirror_mode": {
    "name": "ipython",
    "version": 3
   },
   "file_extension": ".py",
   "mimetype": "text/x-python",
   "name": "python",
   "nbconvert_exporter": "python",
   "pygments_lexer": "ipython3",
   "version": "3.10.9"
  }
 },
 "nbformat": 4,
 "nbformat_minor": 5
}
